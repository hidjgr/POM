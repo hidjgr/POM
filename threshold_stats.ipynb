{
 "cells": [
  {
   "cell_type": "code",
   "execution_count": 6,
   "metadata": {
    "collapsed": true
   },
   "outputs": [],
   "source": [
    "from dataloader import DataLoader\n",
    "import matplotlib.pyplot as plt\n",
    "from Struct import Struct"
   ]
  },
  {
   "cell_type": "code",
   "execution_count": 7,
   "outputs": [
    {
     "name": "stdout",
     "output_type": "stream",
     "text": [
      "unpickling from data/saved/threshold/0.pkl\n",
      "unpickling from data/saved/threshold/5.pkl\n",
      "unpickling from data/saved/threshold/10.pkl\n",
      "unpickling from data/saved/threshold/15.pkl\n",
      "unpickling from data/saved/threshold/20.pkl\n",
      "unpickling from data/saved/threshold/25.pkl\n",
      "unpickling from data/saved/threshold/30.pkl\n",
      "unpickling from data/saved/threshold/35.pkl\n",
      "unpickling from data/saved/threshold/40.pkl\n",
      "unpickling from data/saved/threshold/45.pkl\n",
      "unpickling from data/saved/threshold/50.pkl\n",
      "unpickling from data/saved/threshold/55.pkl\n",
      "unpickling from data/saved/threshold/60.pkl\n",
      "unpickling from data/saved/threshold/65.pkl\n",
      "unpickling from data/saved/threshold/70.pkl\n",
      "unpickling from data/saved/threshold/75.pkl\n",
      "unpickling from data/saved/threshold/80.pkl\n",
      "unpickling from data/saved/threshold/85.pkl\n",
      "unpickling from data/saved/threshold/90.pkl\n",
      "unpickling from data/saved/threshold/95.pkl\n",
      "unpickling from data/saved/threshold/100.pkl\n"
     ]
    }
   ],
   "source": [
    "xs = []\n",
    "type_counts = []\n",
    "direct_prop = []\n",
    "missing_prop = []\n",
    "direct_link_counts = []\n",
    "missing_link_counts = []\n",
    "first_no_missing = 100\n",
    "\n",
    "for i in range(0, 101, 5):\n",
    "    df = DataLoader.unpickle_data(i)\n",
    "    linearfilt = (df.children.map(lambda ch: ch.reduction()).map(len).map(lambda l: l <= 1) & df.parents.map(\n",
    "        lambda ch: ch.reduction()).map(len).map(lambda l: l <= 1)).groupby('struct').all()\n",
    "\n",
    "    hierarchical = df[~linearfilt[df.index.get_level_values(0)].values]\n",
    "    isolated = df[df.kind == 0]\n",
    "    linear = df[linearfilt[df.index.get_level_values(0)].values]\n",
    "    linear = linear[linear.kind != 0]\n",
    "\n",
    "    type_counts.append((len(set(hierarchical.index.droplevel(1))), len(set(linear.index.droplevel(1))),\n",
    "                        len(set(isolated.index.droplevel(1)))))\n",
    "\n",
    "    total_links = df.children.map(lambda c: len(c)).sum()\n",
    "\n",
    "    direct_links = df.children.map(lambda c: len(c.reduction())).sum()\n",
    "\n",
    "    direct_link_counts.append(direct_links)\n",
    "    direct_prop.append(direct_links / total_links)\n",
    "\n",
    "    missing_links = df.children.map(lambda c: len(c.missing())).sum()\n",
    "\n",
    "    missing_link_counts.append(missing_links)\n",
    "    missing_prop.append(missing_links / total_links)\n",
    "\n",
    "    if missing_links == 0:\n",
    "        if i < first_no_missing:\n",
    "            first_no_missing = i\n",
    "\n",
    "    xs.append(i)\n",
    "\n",
    "    structs = {s: Struct(df[df.index.get_level_values(0) == s].droplevel(0), s, i) for s in\n",
    "               set(df.index.get_level_values(0))}"
   ],
   "metadata": {
    "collapsed": false,
    "pycharm": {
     "name": "#%%\n"
    }
   }
  },
  {
   "cell_type": "markdown",
   "source": [
    "# Plus petit chevauchement pour 0 défauts de transitivité"
   ],
   "metadata": {
    "collapsed": false
   }
  },
  {
   "cell_type": "code",
   "execution_count": 8,
   "outputs": [
    {
     "data": {
      "text/plain": "100"
     },
     "execution_count": 8,
     "metadata": {},
     "output_type": "execute_result"
    }
   ],
   "source": [
    "first_no_missing"
   ],
   "metadata": {
    "collapsed": false,
    "pycharm": {
     "name": "#%%\n"
    }
   }
  },
  {
   "cell_type": "markdown",
   "source": [
    "# Distribution des structures selon le chevauchement"
   ],
   "metadata": {
    "collapsed": false
   }
  },
  {
   "cell_type": "code",
   "execution_count": 14,
   "outputs": [],
   "source": [
    "plt.stackplot(xs, *zip(*type_counts))\n",
    "plt.legend([\"hiérarchiques\", \"linéaires\", \"isolés\", ], loc=\"upper left\")\n",
    "plt.xlabel(\"Soeuil de recouvrement\")\n",
    "plt.ylabel(\"Nombre de structures\")\n",
    "plt.savefig(\"images/plots/soeuil/stack.pdf\")\n",
    "plt.clf()\n",
    "\n",
    "plt.plot(*tuple(c for l in [(xs, tc) for tc in zip(*type_counts)] for c in l))\n",
    "plt.legend([\"hiérarchiques\", \"linéaires\", \"isolés\", ], loc=\"upper left\")\n",
    "plt.savefig(\"images/plots/soeuil/lines.pdf\")\n",
    "plt.xlabel(\"Soeuil de recouvrement\")\n",
    "plt.ylabel(\"Nombre de structures\")\n",
    "plt.savefig(\"images/plots/soeuil/lines.pdf\")\n",
    "plt.close()"
   ],
   "metadata": {
    "collapsed": false,
    "pycharm": {
     "name": "#%%\n"
    }
   }
  },
  {
   "cell_type": "code",
   "execution_count": 13,
   "outputs": [
    {
     "data": {
      "text/plain": "<Figure size 432x288 with 0 Axes>"
     },
     "metadata": {},
     "output_type": "display_data"
    }
   ],
   "source": [
    "plt.plot(xs, missing_link_counts)\n",
    "plt.plot(xs, direct_link_counts)\n",
    "plt.legend([\"défauts de transitivité\", \"liens directs\"])\n",
    "plt.xlabel(\"Soeuil de recouvrement\")\n",
    "plt.ylabel(\"Nombre de liens\")\n",
    "plt.savefig(\"images/plots/soeuil/liens.pdf\")\n",
    "plt.clf()"
   ],
   "metadata": {
    "collapsed": false,
    "pycharm": {
     "name": "#%%\n"
    }
   }
  },
  {
   "cell_type": "code",
   "execution_count": 10,
   "outputs": [],
   "source": [],
   "metadata": {
    "collapsed": false,
    "pycharm": {
     "name": "#%%\n"
    }
   }
  }
 ],
 "metadata": {
  "kernelspec": {
   "display_name": "Python 3",
   "language": "python",
   "name": "python3"
  },
  "language_info": {
   "codemirror_mode": {
    "name": "ipython",
    "version": 2
   },
   "file_extension": ".py",
   "mimetype": "text/x-python",
   "name": "python",
   "nbconvert_exporter": "python",
   "pygments_lexer": "ipython2",
   "version": "2.7.6"
  }
 },
 "nbformat": 4,
 "nbformat_minor": 0
}